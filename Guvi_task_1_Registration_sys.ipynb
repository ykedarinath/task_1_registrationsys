{
  "nbformat": 4,
  "nbformat_minor": 0,
  "metadata": {
    "colab": {
      "name": "Guvi_task_1_Registration_sys.ipynb",
      "provenance": [],
      "mount_file_id": "1RgAOwn3tiUJI56HQc2DbbgaorMWt6sbi",
      "authorship_tag": "ABX9TyMbuaYR8IS1QpISsedijez2",
      "include_colab_link": true
    },
    "kernelspec": {
      "name": "python3",
      "display_name": "Python 3"
    },
    "language_info": {
      "name": "python"
    }
  },
  "cells": [
    {
      "cell_type": "markdown",
      "metadata": {
        "id": "view-in-github",
        "colab_type": "text"
      },
      "source": [
        "<a href=\"https://colab.research.google.com/github/ykedarinath/task_1_registrationsys/blob/main/Guvi_task_1_Registration_sys.ipynb\" target=\"_parent\"><img src=\"https://colab.research.google.com/assets/colab-badge.svg\" alt=\"Open In Colab\"/></a>"
      ]
    },
    {
      "cell_type": "code",
      "execution_count": null,
      "metadata": {
        "id": "ukynUi1vGfFi"
      },
      "outputs": [],
      "source": [
        "import json,os\n",
        "from google.colab import drive\n",
        "drive.mount(\"/drive\")"
      ]
    },
    {
      "cell_type": "code",
      "source": [
        "def checker(a,b):\n",
        "  # function that checks every element of b in a \n",
        "  res = False\n",
        "  for each in b:\n",
        "    if each in a:\n",
        "      res = True\n",
        "      break\n",
        "  return res\n",
        " \n",
        "def registration_email():\n",
        "  # function to receive user email and verify its validity and pass it to registration_passwrd function to create a password for account\n",
        "  userName = input(\"Please enter your email-id :- \")\n",
        "  #cleaning the username\n",
        "  # 1.it should not start with special characters and numbers\n",
        "  spec_char = '[@_!#$%^&*()<>?/\\|}{~:]'\n",
        "  numbr = '0123456789'\n",
        "  if userName[0] not in list(spec_char):\n",
        "    if userName[0] not in list(numbr):\n",
        "      if userName.count('@') == 1:\n",
        "        if userName[userName.index('@')+1] != \".\":\n",
        "          return userName\n",
        "        else:\n",
        "          print(\"Please enter a valid email-id\")\n",
        "          registration_email()\n",
        "      else:\n",
        "        print(\"Please enter a valid email-id\")\n",
        "        registration_email()\n",
        "    else:\n",
        "      print(\"email-id should not start with number\")\n",
        "      registration_email()\n",
        "  else:\n",
        "    print(\"email-id should not start with special_character\")\n",
        "    registration_email()\n",
        "\n",
        "def registration_passwrd(user):\n",
        "  # function to receive user password and verify its validity and return it with email  to user_options function to create a account\n",
        "  msg_0 = \"password should be of length 5 to 16 and \\n Must have minimum one special character, \\n one digit,\\n one uppercase, \\n one lowercase character \"\n",
        "  cap_alpha = list(map(chr,range(65,91)))\n",
        "  sml_alpha = list(map(chr,range(97,123)))\n",
        "  spec_char = '[@_!#$%^&*()<>?/\\|}{~:]'\n",
        "  print(msg_0)\n",
        "  pwd = input(\"Please enter your desired password :- \")\n",
        "  \n",
        "  #cleaning the pwd\n",
        "  # 1.it should be of length between 5-16\n",
        "  spec_char = '[@_!#$%^&*()<>?/\\|}{~:]'\n",
        "  numbr = '0123456789'\n",
        "  if len(pwd) in range(5,17):\n",
        "    caps , sml , sp_ch = checker(cap_alpha,pwd),checker(sml_alpha,pwd),checker(list(spec_char),pwd)\n",
        "    print(caps , sml , sp_ch)\n",
        "    if caps and sml and sp_ch:\n",
        "      print(\"Registration Successful\")\n",
        "      return (user,pwd)\n",
        "    else:\n",
        "      print(\"Enter a valid password \\n\")\n",
        "      registration_passwrd(user)\n",
        "  else:\n",
        "    registration_passwrd(user)\n",
        "\n",
        "def user_options(user_choice):\n",
        "  # function to receive user choice to register or login or retreive forgot password\n",
        "  global data\n",
        "  if user_choice == '1':\n",
        "    user_data = registration_passwrd(registration_email())\n",
        "    print(user_data)\n",
        "    data[user_data[0]] = user_data[1]\n",
        "    with open('task_1_users.json','w') as d:\n",
        "      json.dump(data,d)\n",
        "      start_prog()\n",
        "  if user_choice == '2':\n",
        "    emal = input(\"Enter your registered email : \")\n",
        "    pswd = input(\"Enter your password : \")\n",
        "    if emal in data.keys():\n",
        "      if pswd == data[emal]:\n",
        "        print(emal,\" logged in Successfully\")        \n",
        "      else:\n",
        "        print(\"You have entered wrong Password \\n\")\n",
        "        start_prog()\n",
        "  if user_choice == '3':\n",
        "    emal = input(\"Enter your registered email : \")\n",
        "    if emal in data.keys():\n",
        "      print(\"your password is  \",data[emal])\n",
        "      print(\"Login now with your email and password \\n\")\n",
        "      start_prog()\n",
        "    else:\n",
        "      print(\"you are not registered\")\n",
        "      start_prog()\n",
        "      \n",
        "def start_prog():\n",
        "  msg_0 = \"Please choose your option , 1- to Register. 2- to Login. 3- to retrive lost/forgot password \\n\"\n",
        "  print(msg_0)\n",
        "  user_choice = input(\"1.Regitration \\n2.Login \\n3.to retrive lost/forgot password. \\n\")\n",
        "  user_options(user_choice)\n",
        "\n",
        "\n",
        "files = os.listdir(os.getcwd())\n",
        "if 'task_1_users.json' in files:\n",
        "  with open('task_1_users.json','r') as d:\n",
        "    data = json.load(d)\n",
        "    \n",
        "else:\n",
        "  users = { 'Test@guvi.im': 'Guvi@*',                \n",
        "              }\n",
        "  with open('task_1_users.json','w') as d:\n",
        "    data = json.dump(users,d)\n",
        "\n",
        "start_prog()"
      ],
      "metadata": {
        "id": "PtlqfUqvL6vB"
      },
      "execution_count": null,
      "outputs": []
    },
    {
      "cell_type": "markdown",
      "source": [
        ""
      ],
      "metadata": {
        "id": "Ryzee_Wzk7U_"
      }
    }
  ]
}